{
  "cells": [
    {
      "cell_type": "markdown",
      "metadata": {
        "id": "view-in-github",
        "colab_type": "text"
      },
      "source": [
        "<a href=\"https://colab.research.google.com/github/lavishlyinspired/Agentic-RAG/blob/main/network_multiagent_system.ipynb\" target=\"_parent\"><img src=\"https://colab.research.google.com/assets/colab-badge.svg\" alt=\"Open In Colab\"/></a>"
      ]
    },
    {
      "cell_type": "code",
      "execution_count": null,
      "metadata": {
        "id": "oUPfOnS3XZ52"
      },
      "outputs": [],
      "source": [
        "from typing_extensions import Literal\n",
        "from langchain_core.tools import tool\n",
        "from langchain_groq import ChatGroq\n",
        "from langgraph.graph import MessagesState, StateGraph,START,END\n",
        "from langgraph.types import Command #using the command we can pass the command from one agent to another agent\n",
        "from dotenv import load_dotenv\n",
        "from IPython.display import Image, display\n",
        "from langchain_openai import ChatOpenAI\n",
        "from langchain_core.messages import BaseMessage, HumanMessage\n",
        "from langgraph.prebuilt import create_react_agent\n",
        "from typing import Annotated\n",
        "from langchain_experimental.utilities import PythonREPL"
      ]
    },
    {
      "cell_type": "code",
      "execution_count": null,
      "metadata": {
        "id": "SZW1p0SXXZ5-",
        "outputId": "f07aa068-6933-4645-b182-69ca72bd4826"
      },
      "outputs": [
        {
          "data": {
            "text/plain": [
              "True"
            ]
          },
          "execution_count": 2,
          "metadata": {},
          "output_type": "execute_result"
        }
      ],
      "source": [
        "load_dotenv()"
      ]
    },
    {
      "cell_type": "code",
      "execution_count": null,
      "metadata": {
        "id": "i5uptLihXZ6C"
      },
      "outputs": [],
      "source": [
        "openai_model=ChatOpenAI(model=\"gpt-4\")"
      ]
    },
    {
      "cell_type": "markdown",
      "source": [],
      "metadata": {
        "id": "js1fuewJXnPz"
      }
    },
    {
      "cell_type": "markdown",
      "source": [],
      "metadata": {
        "id": "jUv1jPeHXnMf"
      }
    },
    {
      "cell_type": "code",
      "execution_count": null,
      "metadata": {
        "id": "lhStaurPXZ6E"
      },
      "outputs": [],
      "source": [
        "from langchain_groq import ChatGroq\n",
        "groq_model=ChatGroq(model=\"deepseek-r1-distill-llama-70b\")"
      ]
    },
    {
      "cell_type": "code",
      "execution_count": null,
      "metadata": {
        "id": "JhGH5E4XXZ6F",
        "outputId": "d48cab16-db8e-4f55-ef9d-61f445f63626"
      },
      "outputs": [
        {
          "data": {
            "text/plain": [
              "AIMessage(content='Hello! How can I assist you today?\\n', additional_kwargs={'refusal': None}, response_metadata={'token_usage': {'completion_tokens': 10, 'prompt_tokens': 8, 'total_tokens': 18, 'completion_tokens_details': {'accepted_prediction_tokens': 0, 'audio_tokens': 0, 'reasoning_tokens': 0, 'rejected_prediction_tokens': 0}, 'prompt_tokens_details': {'audio_tokens': 0, 'cached_tokens': 0}}, 'model_name': 'gpt-4-0613', 'system_fingerprint': None, 'finish_reason': 'stop', 'logprobs': None}, id='run-8a69ed08-011b-43f1-81dc-e27476259bc5-0', usage_metadata={'input_tokens': 8, 'output_tokens': 10, 'total_tokens': 18, 'input_token_details': {'audio': 0, 'cache_read': 0}, 'output_token_details': {'audio': 0, 'reasoning': 0}})"
            ]
          },
          "execution_count": 5,
          "metadata": {},
          "output_type": "execute_result"
        }
      ],
      "source": [
        "openai_model.invoke(\"hi\")"
      ]
    },
    {
      "cell_type": "code",
      "execution_count": null,
      "metadata": {
        "id": "kbHoclURXZ6G"
      },
      "outputs": [],
      "source": [
        "# this is a dummay example\n",
        "def add_numbers(state):\n",
        "    result=state[\"num1\"]+state[\"num2\"]\n",
        "    print(f\"additional result: {result}\")\n",
        "    return Command(goto=\"multiply\",update={\"sum\":result})"
      ]
    },
    {
      "cell_type": "code",
      "execution_count": null,
      "metadata": {
        "id": "8BEINmmsXZ6I"
      },
      "outputs": [],
      "source": [
        "state={\"num1\":1, \"num2\":2}"
      ]
    },
    {
      "cell_type": "code",
      "execution_count": null,
      "metadata": {
        "id": "KQjypXViXZ6J",
        "outputId": "c5ccbb37-60e3-4a5c-cd99-3b47a68bf16e"
      },
      "outputs": [
        {
          "name": "stdout",
          "output_type": "stream",
          "text": [
            "additional result: 3\n"
          ]
        },
        {
          "data": {
            "text/plain": [
              "Command(update={'sum': 3}, goto='multiply')"
            ]
          },
          "execution_count": 8,
          "metadata": {},
          "output_type": "execute_result"
        }
      ],
      "source": [
        "add_numbers(state)"
      ]
    },
    {
      "cell_type": "code",
      "execution_count": null,
      "metadata": {
        "id": "7WnaRv9tXZ6M"
      },
      "outputs": [],
      "source": [
        "@tool\n",
        "def transfer_to_multiplication_expert():\n",
        "    \"\"\"Ask multiplication agent for help\"\"\"\n",
        "    return"
      ]
    },
    {
      "cell_type": "code",
      "execution_count": null,
      "metadata": {
        "id": "ucMbrcEvXZ6O"
      },
      "outputs": [],
      "source": [
        "@tool\n",
        "def transfer_to_addition_expert():\n",
        "    \"\"\"Ask addition agent for help\"\"\"\n",
        "    return"
      ]
    },
    {
      "cell_type": "code",
      "execution_count": null,
      "metadata": {
        "id": "o6rXSMWKXZ6Q"
      },
      "outputs": [],
      "source": [
        "model_with_tool=openai_model.bind_tools([transfer_to_multiplication_expert])"
      ]
    },
    {
      "cell_type": "code",
      "execution_count": null,
      "metadata": {
        "id": "iEvhQZHAXZ6R"
      },
      "outputs": [],
      "source": [
        "ai_message=model_with_tool.invoke(\"hi how are you?\")"
      ]
    },
    {
      "cell_type": "code",
      "execution_count": null,
      "metadata": {
        "id": "wigCDqY-XZ6S",
        "outputId": "6587cd56-b6b3-47b7-ed44-936bd0296e7d"
      },
      "outputs": [
        {
          "data": {
            "text/plain": [
              "[]"
            ]
          },
          "execution_count": 13,
          "metadata": {},
          "output_type": "execute_result"
        }
      ],
      "source": [
        "ai_message.tool_calls"
      ]
    },
    {
      "cell_type": "code",
      "execution_count": null,
      "metadata": {
        "id": "cEUqwpoCXZ6T"
      },
      "outputs": [],
      "source": [
        "ai_message=model_with_tool.invoke(\"what's (3 + 5) Provide me the output\")"
      ]
    },
    {
      "cell_type": "code",
      "execution_count": null,
      "metadata": {
        "id": "77G32JLTXZ6T",
        "outputId": "d2e6e822-3507-4a5d-a82b-e458769be628"
      },
      "outputs": [
        {
          "data": {
            "text/plain": [
              "[]"
            ]
          },
          "execution_count": 17,
          "metadata": {},
          "output_type": "execute_result"
        }
      ],
      "source": [
        "ai_message.tool_calls"
      ]
    },
    {
      "cell_type": "code",
      "execution_count": null,
      "metadata": {
        "id": "oLCOX6jHXZ6U"
      },
      "outputs": [],
      "source": [
        "#this is my first agent\n",
        "def additional_expert(state:MessagesState)-> Command[Literal[\"multiplication_expert\", \"__end__\"]]:\n",
        "\n",
        "    system_prompt = (\n",
        "        \"You are an addition expert, you can ask the multiplication expert for help with multiplication.\"\n",
        "        \"Always do your portion of calculation before the handoff.\"\n",
        "    )\n",
        "\n",
        "    messages = [{\"role\": \"system\", \"content\": system_prompt}] + state[\"messages\"]\n",
        "\n",
        "\n",
        "    ai_msg = openai_model.bind_tools([transfer_to_multiplication_expert]).invoke(messages)\n",
        "\n",
        "\n",
        "    if len(ai_msg.tool_calls) > 0:\n",
        "        tool_call_id = ai_msg.tool_calls[-1][\"id\"]\n",
        "        tool_msg = {\n",
        "            \"role\": \"tool\",\n",
        "            \"content\": \"Successfully transferred\",\n",
        "            \"tool_call_id\": tool_call_id,\n",
        "        }\n",
        "\n",
        "        return Command(\n",
        "            goto=\"multiplication_expert\", update={\"messages\": [ai_msg, tool_msg]}\n",
        "        )\n",
        "    return {\"messages\": [ai_msg]}"
      ]
    },
    {
      "cell_type": "code",
      "execution_count": null,
      "metadata": {
        "id": "b4ApFzcSXZ6V"
      },
      "outputs": [],
      "source": [
        "#this is my second agent\n",
        "def multiplication_expert(state:MessagesState)-> Command[Literal[\"additional_expert\", \"__end__\"]]:\n",
        "\n",
        "    system_prompt = (\n",
        "        \"You are a multiplication expert, you can ask an addition expert for help with addition. \"\n",
        "        \"Always do your portion of calculation before the handoff.\"\n",
        "    )\n",
        "\n",
        "    messages = [{\"role\": \"system\", \"content\": system_prompt}] + state[\"messages\"]\n",
        "\n",
        "    ai_msg = openai_model.bind_tools([transfer_to_addition_expert]).invoke(messages)\n",
        "\n",
        "    if len(ai_msg.tool_calls) > 0:\n",
        "        tool_call_id = ai_msg.tool_calls[-1][\"id\"]\n",
        "        tool_msg = {\n",
        "            \"role\": \"tool\",\n",
        "            \"content\": \"Successfully transferred\",\n",
        "            \"tool_call_id\": tool_call_id,\n",
        "        }\n",
        "        return Command(goto=\"additional_expert\", update={\"messages\": [ai_msg, tool_msg]})\n",
        "\n",
        "    return {\"messages\": [ai_msg]}"
      ]
    },
    {
      "cell_type": "code",
      "execution_count": null,
      "metadata": {
        "id": "opOpmLbyXZ6W"
      },
      "outputs": [],
      "source": [
        "graph=StateGraph(MessagesState)"
      ]
    },
    {
      "cell_type": "code",
      "execution_count": null,
      "metadata": {
        "id": "MbKj5GLzXZ6X",
        "outputId": "458da2b4-0800-4d01-ed8f-0a3bcf596de6"
      },
      "outputs": [
        {
          "data": {
            "text/plain": [
              "<langgraph.graph.state.StateGraph at 0x1c47c537790>"
            ]
          },
          "execution_count": 21,
          "metadata": {},
          "output_type": "execute_result"
        }
      ],
      "source": [
        "graph.add_node(\"additional_expert\",additional_expert)\n",
        "graph.add_node(\"multiplication_expert\",multiplication_expert)"
      ]
    },
    {
      "cell_type": "code",
      "execution_count": null,
      "metadata": {
        "id": "u_4F3gw3XZ6X",
        "outputId": "1cecf584-1401-42be-f8ef-eb3fb6a4dceb"
      },
      "outputs": [
        {
          "data": {
            "text/plain": [
              "<langgraph.graph.state.StateGraph at 0x1c47c537790>"
            ]
          },
          "execution_count": 23,
          "metadata": {},
          "output_type": "execute_result"
        }
      ],
      "source": [
        "graph.add_edge(START, \"additional_expert\")"
      ]
    },
    {
      "cell_type": "code",
      "execution_count": null,
      "metadata": {
        "id": "gQPsemi6XZ6Y"
      },
      "outputs": [],
      "source": [
        "app=graph.compile()"
      ]
    },
    {
      "cell_type": "code",
      "execution_count": null,
      "metadata": {
        "id": "GeNNWfnxXZ6Z",
        "outputId": "40761a8e-7011-4c58-8f72-9a69a82381e8"
      },
      "outputs": [
        {
          "data": {
            "image/png": "[encoded data removed]",
            "text/plain": [
              "<IPython.core.display.Image object>"
            ]
          },
          "metadata": {},
          "output_type": "display_data"
        }
      ],
      "source": [
        "display(Image(app.get_graph().draw_mermaid_png()))"
      ]
    },
    {
      "cell_type": "code",
      "execution_count": null,
      "metadata": {
        "id": "lNSVtY9-XZ6Z",
        "outputId": "d055a962-33a4-4b98-f4a2-aa7b125e6219"
      },
      "outputs": [
        {
          "data": {
            "text/plain": [
              "{'messages': [HumanMessage(content=\"what's (3 + 5) * 12. Provide me the output\", additional_kwargs={}, response_metadata={}, id='f6acf1d2-4d86-47e4-be88-efd4a697d77a'),\n",
              "  AIMessage(content=\"The addition part here is (3 + 5) which equals 8. Now let's move to the multiplication part.\", additional_kwargs={'tool_calls': [{'id': 'call_30QPLX97KTsY2TmaXHe4C3KM', 'function': {'arguments': '{\\n  \"numbers\": [8, 12]\\n}', 'name': 'transfer_to_multiplication_expert'}, 'type': 'function'}], 'refusal': None}, response_metadata={'token_usage': {'completion_tokens': 50, 'prompt_tokens': 86, 'total_tokens': 136, 'completion_tokens_details': {'accepted_prediction_tokens': 0, 'audio_tokens': 0, 'reasoning_tokens': 0, 'rejected_prediction_tokens': 0}, 'prompt_tokens_details': {'audio_tokens': 0, 'cached_tokens': 0}}, 'model_name': 'gpt-4-0613', 'system_fingerprint': None, 'finish_reason': 'tool_calls', 'logprobs': None}, id='run-92d584e2-f182-4895-b7a1-9135f5b8fe50-0', tool_calls=[{'name': 'transfer_to_multiplication_expert', 'args': {'numbers': [8, 12]}, 'id': 'call_30QPLX97KTsY2TmaXHe4C3KM', 'type': 'tool_call'}], usage_metadata={'input_tokens': 86, 'output_tokens': 50, 'total_tokens': 136, 'input_token_details': {'audio': 0, 'cache_read': 0}, 'output_token_details': {'audio': 0, 'reasoning': 0}}),\n",
              "  ToolMessage(content='Successfully transferred', id='a07f15a9-e2c0-43b0-96fa-1dbc19af787e', tool_call_id='call_30QPLX97KTsY2TmaXHe4C3KM'),\n",
              "  AIMessage(content='The multiplication of 8 by 12 is 96.', additional_kwargs={'refusal': None}, response_metadata={'token_usage': {'completion_tokens': 14, 'prompt_tokens': 148, 'total_tokens': 162, 'completion_tokens_details': {'accepted_prediction_tokens': 0, 'audio_tokens': 0, 'reasoning_tokens': 0, 'rejected_prediction_tokens': 0}, 'prompt_tokens_details': {'audio_tokens': 0, 'cached_tokens': 0}}, 'model_name': 'gpt-4-0613', 'system_fingerprint': None, 'finish_reason': 'stop', 'logprobs': None}, id='run-209fc02c-5d52-4f59-a416-221403943444-0', usage_metadata={'input_tokens': 148, 'output_tokens': 14, 'total_tokens': 162, 'input_token_details': {'audio': 0, 'cache_read': 0}, 'output_token_details': {'audio': 0, 'reasoning': 0}})]}"
            ]
          },
          "execution_count": 27,
          "metadata": {},
          "output_type": "execute_result"
        }
      ],
      "source": [
        "app.invoke({\"messages\":[(\"user\",\"what's (3 + 5) * 12. Provide me the output\")]})"
      ]
    },
    {
      "cell_type": "code",
      "execution_count": null,
      "metadata": {
        "id": "ip5d3T0MXZ6a"
      },
      "outputs": [],
      "source": [
        "from langchain_core.messages import convert_to_messages\n",
        "def pretty_print_messages(update):\n",
        "    if isinstance(update, tuple):\n",
        "        ns, update = update\n",
        "        # skip parent graph updates in the printouts\n",
        "        if len(ns) == 0:\n",
        "            return\n",
        "\n",
        "        graph_id = ns[-1].split(\":\")[0]\n",
        "        print(f\"Update from subgraph {graph_id}:\")\n",
        "        print(\"\\n\")\n",
        "\n",
        "    for node_name, node_update in update.items():\n",
        "        print(f\"Update from node {node_name}:\")\n",
        "        print(\"\\n\")\n",
        "\n",
        "        for m in convert_to_messages(node_update[\"messages\"]):\n",
        "            m.pretty_print()\n",
        "        print(\"\\n\")"
      ]
    },
    {
      "cell_type": "code",
      "execution_count": null,
      "metadata": {
        "id": "vxw0YvLuXZ6b",
        "outputId": "604b9c0e-7fe7-47a7-d9b7-eb92aec237ec"
      },
      "outputs": [
        {
          "name": "stdout",
          "output_type": "stream",
          "text": [
            "****chunk...****\n",
            "Update from node additional_expert:\n",
            "\n",
            "\n",
            "==================================\u001b[1m Ai Message \u001b[0m==================================\n",
            "\n",
            "The sum of 3 + 5 is 8. Now let's multiply this with 12.\n",
            "Tool Calls:\n",
            "  transfer_to_multiplication_expert (call_zETwusD5MzvgxZNUpHsd3f40)\n",
            " Call ID: call_zETwusD5MzvgxZNUpHsd3f40\n",
            "  Args:\n",
            "    multiplicand1: 8\n",
            "    multiplicand2: 12\n",
            "=================================\u001b[1m Tool Message \u001b[0m=================================\n",
            "\n",
            "Successfully transferred\n",
            "\n",
            "\n",
            "****chunk...****\n",
            "Update from node multiplication_expert:\n",
            "\n",
            "\n",
            "==================================\u001b[1m Ai Message \u001b[0m==================================\n",
            "\n",
            "The product of 8 and 12 is 96. So, the result of (3 + 5) * 12 is 96.\n",
            "\n",
            "\n"
          ]
        }
      ],
      "source": [
        "# Let's run the graph with an expression that requires both addition and multiplication:\n",
        "for chunk in app.stream(\n",
        "    {\"messages\": [(\"user\", \"what's (3 + 5) * 12. Provide me the output\")]},\n",
        "):\n",
        "    print(\"****chunk...****\")\n",
        "\n",
        "    pretty_print_messages(chunk)"
      ]
    },
    {
      "cell_type": "code",
      "execution_count": null,
      "metadata": {
        "id": "NjI3spZ7XZ6d"
      },
      "outputs": [],
      "source": [
        "@tool\n",
        "def transfer_to_travel_advisor():\n",
        "    \"\"\"Ask travel advisor for help.\"\"\"\n",
        "    return\n",
        "@tool\n",
        "def transfer_to_hotel_advisor():\n",
        "    \"\"\"Ask hotel advisor for help.\"\"\"\n",
        "    return"
      ]
    },
    {
      "cell_type": "code",
      "execution_count": null,
      "metadata": {
        "id": "ZP23UebRXZ6e"
      },
      "outputs": [],
      "source": [
        "def travel_advisor(state: MessagesState) -> Command[Literal[\"hotel_advisor\", \"__end__\"]]:\n",
        "    system_prompt = (\n",
        "        \"You are a general travel expert that can recommend travel destinations (e.g. countries, cities, etc). \"\n",
        "        \"If you need hotel recommendations, ask 'hotel_advisor' for help.\"\n",
        "    )\n",
        "\n",
        "    messages = [{\"role\": \"system\", \"content\": system_prompt}] + state[\"messages\"]\n",
        "\n",
        "    ai_msg = groq_model.bind_tools([transfer_to_hotel_advisor]).invoke(messages)\n",
        "\n",
        "    if len(ai_msg.tool_calls) > 0:\n",
        "        tool_call_id = ai_msg.tool_calls[-1][\"id\"]\n",
        "        tool_msg = {\n",
        "            \"role\": \"tool\",\n",
        "            \"content\": \"Successfully transferred\",\n",
        "            \"tool_call_id\": tool_call_id,\n",
        "        }\n",
        "\n",
        "        return Command(goto=\"hotel_advisor\", update={\"messages\": [ai_msg, tool_msg]})\n",
        "\n",
        "    return {\"messages\": [ai_msg]}"
      ]
    },
    {
      "cell_type": "code",
      "execution_count": null,
      "metadata": {
        "id": "Thq6TsSVXZ6e"
      },
      "outputs": [],
      "source": [
        "def hotel_advisor(state: MessagesState) -> Command[Literal[\"travel_advisor\", \"__end__\"]]:\n",
        "    system_prompt = (\n",
        "        \"You are a hotel expert that can provide hotel recommendations for a given destination. \"\n",
        "        \"If you need help picking travel destinations, ask 'travel_advisor' for help.\"\n",
        "    )\n",
        "    messages = [{\"role\": \"system\", \"content\": system_prompt}] + state[\"messages\"]\n",
        "    ai_msg = groq_model.bind_tools([transfer_to_travel_advisor]).invoke(messages)\n",
        "    if len(ai_msg.tool_calls) > 0:\n",
        "        tool_call_id = ai_msg.tool_calls[-1][\"id\"]\n",
        "        tool_msg = {\n",
        "            \"role\": \"tool\",\n",
        "            \"content\": \"Successfully transferred\",\n",
        "            \"tool_call_id\": tool_call_id,\n",
        "        }\n",
        "        return Command(goto=\"travel_advisor\", update={\"messages\": [ai_msg, tool_msg]})\n",
        "    return {\"messages\": [ai_msg]}"
      ]
    },
    {
      "cell_type": "code",
      "execution_count": null,
      "metadata": {
        "id": "V8WPECL7XZ6f",
        "outputId": "1fea3208-4963-455d-92bc-5fe67b747594"
      },
      "outputs": [
        {
          "data": {
            "text/plain": [
              "AIMessage(content='<think>\\n\\n</think>\\n\\nHello! How can I assist you today? 😊', additional_kwargs={}, response_metadata={'token_usage': {'completion_tokens': 16, 'prompt_tokens': 6, 'total_tokens': 22, 'completion_time': 0.058181818, 'prompt_time': 0.003479857, 'queue_time': 0.048338188, 'total_time': 0.061661675}, 'model_name': 'deepseek-r1-distill-llama-70b', 'system_fingerprint': 'fp_454c494f52', 'finish_reason': 'stop', 'logprobs': None}, id='run-f316060a-9d59-4a26-92aa-a1567de6734e-0', usage_metadata={'input_tokens': 6, 'output_tokens': 16, 'total_tokens': 22})"
            ]
          },
          "execution_count": 47,
          "metadata": {},
          "output_type": "execute_result"
        }
      ],
      "source": [
        "groq_model.invoke(\"hi\")"
      ]
    },
    {
      "cell_type": "code",
      "execution_count": null,
      "metadata": {
        "id": "x-u_-6qvXZ6g",
        "outputId": "af09230f-b656-4e21-efd1-62f815efb133"
      },
      "outputs": [
        {
          "data": {
            "text/plain": [
              "<langgraph.graph.state.StateGraph at 0x1c47f82b9d0>"
            ]
          },
          "execution_count": 48,
          "metadata": {},
          "output_type": "execute_result"
        }
      ],
      "source": [
        "graph_builder = StateGraph(MessagesState)\n",
        "graph_builder.add_node(\"travel_advisor\", travel_advisor)\n",
        "graph_builder.add_node(\"hotel_advisor\", hotel_advisor)"
      ]
    },
    {
      "cell_type": "code",
      "execution_count": null,
      "metadata": {
        "id": "LDmFUMPgXZ6g",
        "outputId": "b70dc41c-4f08-4f58-d62d-b4f6ff768979"
      },
      "outputs": [
        {
          "data": {
            "text/plain": [
              "<langgraph.graph.state.StateGraph at 0x1c47f82b9d0>"
            ]
          },
          "execution_count": 49,
          "metadata": {},
          "output_type": "execute_result"
        }
      ],
      "source": [
        "# we'll always start with a general travel advisor\n",
        "graph_builder.add_edge(START, \"travel_advisor\")"
      ]
    },
    {
      "cell_type": "code",
      "execution_count": null,
      "metadata": {
        "id": "wFzYQAHyXZ6i"
      },
      "outputs": [],
      "source": [
        "app = graph_builder.compile()"
      ]
    },
    {
      "cell_type": "code",
      "execution_count": null,
      "metadata": {
        "id": "U6dxeC0rXZ6i"
      },
      "outputs": [],
      "source": [
        "\n",
        "# display(Image(app.get_graph().draw_mermaid_png()))"
      ]
    },
    {
      "cell_type": "code",
      "execution_count": null,
      "metadata": {
        "id": "E1iZ7NxYXZ6j",
        "outputId": "054cccb6-b1cc-4635-826a-35bba04c34ca"
      },
      "outputs": [
        {
          "data": {
            "text/plain": [
              "{'messages': [HumanMessage(content='I am planning a trip to the California in the USA from Mumbai. Can you guide me on travel options and suggest the best hotel with breakfast?', additional_kwargs={}, response_metadata={}, id='5f39dc05-70f0-44b8-8e97-026353c90ef4'),\n",
              "  AIMessage(content='', additional_kwargs={'tool_calls': [{'id': 'call_rk0v', 'function': {'arguments': '{}', 'name': 'transfer_to_hotel_advisor'}, 'type': 'function'}]}, response_metadata={'token_usage': {'completion_tokens': 403, 'prompt_tokens': 180, 'total_tokens': 583, 'completion_time': 1.465454545, 'prompt_time': 0.012885911, 'queue_time': 0.064115679, 'total_time': 1.478340456}, 'model_name': 'deepseek-r1-distill-llama-70b', 'system_fingerprint': 'fp_454c494f52', 'finish_reason': 'tool_calls', 'logprobs': None}, id='run-83187cf0-63ca-486e-a2d9-cff274b1b719-0', tool_calls=[{'name': 'transfer_to_hotel_advisor', 'args': {}, 'id': 'call_rk0v', 'type': 'tool_call'}], usage_metadata={'input_tokens': 180, 'output_tokens': 403, 'total_tokens': 583}),\n",
              "  ToolMessage(content='Successfully transferred', id='8bff0cc1-5ad0-4058-9689-a6ef98026852', tool_call_id='call_rk0v'),\n",
              "  AIMessage(content='', additional_kwargs={'tool_calls': [{'id': 'call_y7mt', 'function': {'arguments': '{}', 'name': 'transfer_to_travel_advisor'}, 'type': 'function'}]}, response_metadata={'token_usage': {'completion_tokens': 89, 'prompt_tokens': 237, 'total_tokens': 326, 'completion_time': 0.323636364, 'prompt_time': 0.015420318, 'queue_time': 0.04711304699999999, 'total_time': 0.339056682}, 'model_name': 'deepseek-r1-distill-llama-70b', 'system_fingerprint': 'fp_454c494f52', 'finish_reason': 'tool_calls', 'logprobs': None}, id='run-8cc4ad8c-65a4-4125-956b-ec5da44c0a73-0', tool_calls=[{'name': 'transfer_to_travel_advisor', 'args': {}, 'id': 'call_y7mt', 'type': 'tool_call'}], usage_metadata={'input_tokens': 237, 'output_tokens': 89, 'total_tokens': 326}),\n",
              "  ToolMessage(content='Successfully transferred', id='5a8ef9ad-74b1-4396-a88b-eb84d8e64eaf', tool_call_id='call_y7mt'),\n",
              "  AIMessage(content=\"Great! I've transferred your request to the appropriate advisor. They'll help you with travel options and hotel recommendations.\", additional_kwargs={}, response_metadata={'token_usage': {'completion_tokens': 73, 'prompt_tokens': 302, 'total_tokens': 375, 'completion_time': 0.265454545, 'prompt_time': 0.022986039, 'queue_time': 0.06003178000000001, 'total_time': 0.288440584}, 'model_name': 'deepseek-r1-distill-llama-70b', 'system_fingerprint': 'fp_454c494f52', 'finish_reason': 'stop', 'logprobs': None}, id='run-a32df134-282f-4ca7-a1d0-d5f9a440ef69-0', usage_metadata={'input_tokens': 302, 'output_tokens': 73, 'total_tokens': 375})]}"
            ]
          },
          "execution_count": 52,
          "metadata": {},
          "output_type": "execute_result"
        }
      ],
      "source": [
        "app.invoke({\"messages\":[(\"user\",\"I am planning a trip to the California in the USA from Mumbai. Can you guide me on travel options and suggest the best hotel with breakfast?\")]})"
      ]
    },
    {
      "cell_type": "code",
      "execution_count": null,
      "metadata": {
        "id": "eRBAGjw4XZ6j",
        "outputId": "51de4d61-ee92-4d66-bd99-eac5166e0e1a"
      },
      "outputs": [
        {
          "name": "stdout",
          "output_type": "stream",
          "text": [
            "****chunk****\n",
            "Update from node travel_advisor:\n",
            "\n",
            "\n",
            "==================================\u001b[1m Ai Message \u001b[0m==================================\n",
            "Tool Calls:\n",
            "  transfer_to_hotel_advisor (call_p85f)\n",
            " Call ID: call_p85f\n",
            "  Args:\n",
            "=================================\u001b[1m Tool Message \u001b[0m=================================\n",
            "\n",
            "Successfully transferred\n",
            "\n",
            "\n",
            "****chunk****\n",
            "Update from node hotel_advisor:\n",
            "\n",
            "\n",
            "==================================\u001b[1m Ai Message \u001b[0m==================================\n",
            "\n",
            "Planning a trip from Mumbai to California involves several key considerations to ensure a smooth and enjoyable journey. Here's a structured approach to help you make the most of your trip:\n",
            "\n",
            "### 1. **Travel Options from Mumbai to California**\n",
            "   - **Destinations in California**: Major airports in California include Los Angeles (LAX), San Francisco (SFO), and San Diego (SAN). Each city offers unique experiences, so choose based on your interests.\n",
            "   - **Airlines and Flight Duration**: Airlines like Air India, United, and Delta operate flights from Mumbai to California. Direct flights are limited, but connecting flights through hubs like Dubai or Hong Kong are common. Flight durations typically range from 16 to 24 hours, depending on the route.\n",
            "   - **Jet Lag Consideration**: Aim for flights arriving in the morning or early afternoon to help adjust to the 12-13 hour time difference.\n",
            "\n",
            "### 2. **Hotel Recommendations**\n",
            "   - **Los Angeles**:\n",
            "     - **Luxury**: The Ritz-Carlton, The Four Seasons.\n",
            "     - **Mid-Range**: Best Western, Holiday Inn.\n",
            "     - **Location**: Consider staying near Hollywood, Beverly Hills, or Santa Monica for access to attractions and beaches.\n",
            "   - **San Francisco**:\n",
            "     - **Luxury**: The Fairmont, The St. Regis.\n",
            "     - **Mid-Range**: Hyatt, Marriott.\n",
            "     - **Location**: Fisherman’s Wharf, Union Square, or near the Golden Gate Bridge.\n",
            "   - **San Diego**:\n",
            "     - **Luxury**: The US Grant, Hotel del Coronado.\n",
            "     - **Mid-Range**: Hilton, Sheraton.\n",
            "     - **Location**: Downtown, Coronado Island, or near beaches.\n",
            "\n",
            "### 3. **Travel Tips**\n",
            "   - **Purpose of Trip**: Tailor your stay based on whether you're traveling for leisure, business, or a mix. Leisure travelers might prefer hotels with pools and spas, while business travelers may need conference facilities.\n",
            "   - **Transportation**: Renting a car is advisable for exploring beyond city limits. Public transport in California is limited.\n",
            "   - **Attractions and Activities**: Visit iconic spots like Disneyland, Universal Studios, Golden Gate Bridge, and consider day trips to places like Napa Valley or Yosemite National Park.\n",
            "\n",
            "### 4. **Seasonal Considerations**\n",
            "   - **Climate**: Coastal areas are mild year-round, while inland regions can be hot. Summer is ideal for beaches, and winter for skiing in the Sierra Nevada mountains.\n",
            "\n",
            "### 5. **Practical Information**\n",
            "   - **Visa and Documentation**: Ensure you have the correct visa and necessary documents for entry into the USA.\n",
            "   - **Health Precautions**: Check for any required vaccinations and health advisories.\n",
            "   - **Booking Tips**: Book flights and hotels in advance, especially during peak travel seasons, to secure better rates.\n",
            "\n",
            "### 6. **Tailored Recommendations**\n",
            "   - Provide details on the number of travelers, duration of stay, and specific interests to receive more personalized suggestions.\n",
            "\n",
            "By considering these factors, you can plan a well-rounded trip to California, ensuring a memorable experience tailored to your preferences and needs.\n",
            "\n",
            "\n"
          ]
        }
      ],
      "source": [
        "for chunk in app.stream(\n",
        "    {\"messages\": [(\"user\", \"I am planning a trip to the California in the USA from Mumbai. Can you guide me on travel options and suggest the best hotel?\")]},\n",
        "):\n",
        "    print(\"****chunk****\")\n",
        "\n",
        "    pretty_print_messages(chunk)"
      ]
    },
    {
      "cell_type": "code",
      "execution_count": null,
      "metadata": {
        "id": "0IAZvv8KXZ6k",
        "outputId": "576c7d3b-3cad-4f96-96dc-fb053e9c9a95"
      },
      "outputs": [
        {
          "name": "stdout",
          "output_type": "stream",
          "text": [
            "****chunk****\n",
            "Update from node travel_advisor:\n",
            "\n",
            "\n",
            "==================================\u001b[1m Ai Message \u001b[0m==================================\n",
            "Tool Calls:\n",
            "  transfer_to_hotel_advisor (call_3wdh)\n",
            " Call ID: call_3wdh\n",
            "  Args:\n",
            "=================================\u001b[1m Tool Message \u001b[0m=================================\n",
            "\n",
            "Successfully transferred\n",
            "\n",
            "\n",
            "****chunk****\n",
            "Update from node hotel_advisor:\n",
            "\n",
            "\n",
            "==================================\u001b[1m Ai Message \u001b[0m==================================\n",
            "\n",
            "I'm happy to help with hotel recommendations! However, I don't have information about flight options. For flight details, I recommend checking with airlines or a travel booking platform like Expedia, Kayak, or Skyscanner.\n",
            "\n",
            "For hotels in California, here are some top recommendations based on popular destinations:\n",
            "\n",
            "### **Los Angeles:**\n",
            "1. **The Ritz-Carlton, Los Angeles** - Luxurious and centrally located.\n",
            "2. **The Beverly Hills Hotel** - Iconic and elegant.\n",
            "3. **Hotel Bel-Air** - A serene, boutique-style retreat.\n",
            "\n",
            "### **San Francisco:**\n",
            "1. **The Fairmont San Francisco** - Historic and luxurious.\n",
            "2. **The Ritz-Carlton, San Francisco** - Upscale and modern.\n",
            "3. **Hotel Drisco** - A chic boutique hotel in Pacific Heights.\n",
            "\n",
            "### **San Diego:**\n",
            "1. **The Lodge at Torrey Pines** - Stunning ocean views.\n",
            "2. **Hotel del Coronado** - A beachfront classic.\n",
            "3. **The US Grant, a Luxury Collection Hotel** - Historic and elegant.\n",
            "\n",
            "### **Napa Valley:**\n",
            "1. **Auberge du Soleil** - Luxurious with breathtaking views.\n",
            "2. **Solage, Auberge Resorts Collection** - Modern and stylish.\n",
            "3. **Milliken Creek Inn & Spa** - A peaceful retreat.\n",
            "\n",
            "Let me know if you'd like more specific recommendations!\n",
            "\n",
            "\n"
          ]
        }
      ],
      "source": [
        "for chunk in app.stream(\n",
        "    {\"messages\": [(\"user\", \"What are the best flight options from Mumbai to California, and can you recommend top hotels for a comfortable and convenient stay?\")]},\n",
        "):\n",
        "    print(\"****chunk****\")\n",
        "\n",
        "    pretty_print_messages(chunk)"
      ]
    },
    {
      "cell_type": "code",
      "execution_count": null,
      "metadata": {
        "id": "g3LmTn1BXZ6l"
      },
      "outputs": [],
      "source": []
    }
  ],
  "metadata": {
    "kernelspec": {
      "display_name": "Python 3",
      "language": "python",
      "name": "python3"
    },
    "language_info": {
      "codemirror_mode": {
        "name": "ipython",
        "version": 3
      },
      "file_extension": ".py",
      "mimetype": "text/x-python",
      "name": "python",
      "nbconvert_exporter": "python",
      "pygments_lexer": "ipython3",
      "version": "3.10.16"
    },
    "colab": {
      "provenance": [],
      "include_colab_link": true
    }
  },
  "nbformat": 4,
  "nbformat_minor": 0
}